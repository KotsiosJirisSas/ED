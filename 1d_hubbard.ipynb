{
 "cells": [
  {
   "cell_type": "markdown",
   "metadata": {},
   "source": [
    "I want to create code for a 1D Hubbard chain ED utilizing only the two $U(1)$ charge/spin symmetries. This is meant to represent a single chain of the eventual system. The chain Hamiltonian is \n",
    "$$\n",
    "\\large\n",
    "H^x = \\sum_{\\langle ij \\rangle \\in \\mathcal{x}} \\sum_s t c^\\dagger_{is}c_{js}\n",
    "$$\n",
    "and symmetries allow us to work in a fixed \n",
    "$$\n",
    "\\large\n",
    "(n^x_\\uparrow,n^x_{\\downarrow})\n",
    "$$\n",
    "symmetry sector.\n",
    "The natural decomposition of the hilbert space into spin parts\n",
    "$$\n",
    "\\large\n",
    "\\mathcal{H}^x = \\otimes_s\\mathcal{H}^x_s\n",
    "$$\n",
    "simplifies the basis construction:\n",
    "\n",
    "---------------------------\n",
    "Basis Construction\n",
    "----------------\n",
    "Each spin hilbert space at each site has a dimension of two: empty or occupied which naturally lends itself to a binary representation. For N sites, the $\\uparrow$ basis is labelled by N digit binaries with base 10 rep between $0$ and $2^N-1$. Same with the $\\downarrow$ basis. A state with reps for $\\uparrow,\\downarrow = (i,j)$ will have a total ordering $2^N \\times i + j$ so total basis is characterized by numbers between $0$ and $4^N-1$. However, since we are working in a $(n^x_\\uparrow,n^x_{\\downarrow})$ sector, really we will have an ordering \n",
    "$$\n",
    "\\large\n",
    "(i,j) \\rightarrow \\begin{pmatrix} N \\\\ n^x_\\uparrow\\end{pmatrix}\\times i + j\n",
    "$$\n",
    "and a basis going between \n",
    "$$\n",
    "\\large\n",
    "0 :\\begin{pmatrix} N \\\\ n^x_\\uparrow\\end{pmatrix}\\begin{pmatrix} N \\\\ n^x_\\downarrow\\end{pmatrix} -1\n",
    "$$\n",
    "--------------------------------\n",
    "Number of sections\n",
    "---------------------\n",
    "For a chain of $N$ sites there can be between $0$ and $N$ $\\uparrow$ electrons and same for the $\\downarrow$ electrons, hence there are \n",
    "$(N+1)^2$ fixed $(n^x_\\uparrow,n^x_{\\downarrow})$ sections.\n",
    "\n",
    "-------------------------------------------\n",
    "Lin Table\n",
    "--------------\n",
    "In essence, for an integer $I$ representing a basis state $|s\\rangle$, we want a table (map) $T$ between the state $I$ and its basis number $J$:\n",
    "$$\n",
    "T : J \\rightarrow I\n",
    "\n",
    "$$\n",
    "$$\n",
    "T(J) = I\n",
    "$$\n",
    "where $I \\in [0,2^N-1]$ and $J \\in [0,\\#_\\text{basis}]$\n",
    "Since we have naturally split up the integer representation\n",
    "$$\n",
    "I = I_\\uparrow + 2^N I_\\downarrow\n",
    "$$\n",
    "we define two tables (maps)\n",
    "$$\n",
    "J_\\uparrow(I_\\uparrow),J_\\downarrow(I_\\downarrow)\n",
    "$$\n",
    "with the final mapping $I \\rightarrow J$ being\n",
    "$$\n",
    "J = J_\\uparrow+J_\\downarrow\n",
    "$$\n",
    "So the flow is:\n",
    "$$\n",
    "I \\rightarrow I_\\uparrow,I_\\downarrow \\rightarrow J \n",
    "$$\n",
    "or, if we start off from J, we go instead:\n",
    "$$\n",
    "J \\rightarrow I = T(J)\n",
    "$$\n",
    "----------------------------------"
   ]
  },
  {
   "cell_type": "code",
   "execution_count": 1,
   "metadata": {},
   "outputs": [],
   "source": [
    "import numpy as np\n",
    "import matplotlib.pyplot as plt\n",
    "import scipy.stats as spst\n",
    "from scipy.sparse import csr_matrix,coo_matrix #optimizes H . v operations. to check if H already row sparse, do  isspmatrix_csr(H)\n",
    "from scipy.sparse.linalg import eigsh\n",
    "import time\n",
    "import pickle"
   ]
  },
  {
   "cell_type": "code",
   "execution_count": 93,
   "metadata": {},
   "outputs": [],
   "source": [
    "def countBits(x):\n",
    "    '''Counts number of 1s in bin(n)'''\n",
    "    #From Hacker's Delight, p. 66\n",
    "    x = x - ((x >> 1) & 0x55555555)\n",
    "    x = (x & 0x33333333) + ((x >> 2) & 0x33333333)\n",
    "    x = (x + (x >> 4)) & 0x0F0F0F0F\n",
    "    x = x + (x >> 8)\n",
    "    x = x + (x >> 16)\n",
    "    return x & 0x0000003F \n",
    "def binp(num, length=4):\n",
    "    '''\n",
    "    print a binary number without python 0b and appropriate number of zeros\n",
    "    regular bin(x) returns '0bbinp(x)' and the 0 and b can fuck up other stuff\n",
    "    '''\n",
    "    return format(num, '#0{}b'.format(length + 2))[2:]\n",
    "def basisVisualizer(L,psi):\n",
    "    '''\n",
    "    Given psi=(#)_10, outputs the state in arrows\n",
    "    (psi is the decimal number not its binary rep)\n",
    "    '''\n",
    "    #ex: |↓|↑|↓|↑|↑|\n",
    "    psi_up = psi%(2**L)\n",
    "    psi_down = psi//(2**L)\n",
    "\n",
    "    s_up = bin(psi_up)[2:]\n",
    "    s_down = bin(psi_down)[2:]\n",
    "    N_up  = len(s_up)\n",
    "    N_down = len(s_down)\n",
    "    up = (L-N_up)*'0'+s_up\n",
    "    down = (L-N_down)*'0'+s_down\n",
    "    configStrUp = \"\"\n",
    "    configStrDown = \"\"\n",
    "    configStr = \"\"\n",
    "    uparrow   = '\\u2191'\n",
    "    downarrow = '\\u2193'\n",
    "    empty = 'o'\n",
    "    for i in range(L):\n",
    "        blank = True\n",
    "        if up[i] == '1' and down[i] == '1':\n",
    "            configStr += '('+uparrow+downarrow+')'\n",
    "            blank = False\n",
    "        if up[i] == '1' and down[i] == '0':\n",
    "            configStr +=uparrow\n",
    "            blank = False\n",
    "        if up[i] == '0' and down[i] == '1':\n",
    "            configStr +=downarrow\n",
    "            blank = False\n",
    "        if up[i] == '0' and down[i] == '0':\n",
    "            configStr += empty\n",
    "            blank = False\n",
    "        if blank:\n",
    "            configStr+=\"_\"\n",
    "    print(configStr)\n",
    "    return\n",
    "def symmsector(L,psi,Q1,Q2):\n",
    "    '''\n",
    "    ''' \n",
    "    psi_up = psi%(2**L)\n",
    "    psi_down = psi//(2**L)\n",
    "\n",
    "    #s_up = binp(psi_up)\n",
    "    #s_down = binp(psi_down)\n",
    "    #print(s_up,s_down)\n",
    "    if countBits(psi_up) == Q1 and countBits(psi_down) == Q2:\n",
    "        return True\n",
    "def symmsectorTot(L,psi,Q):\n",
    "    '''\n",
    "    ''' \n",
    "    psi_up = psi%(2**L)\n",
    "    psi_down = psi//(2**L)\n",
    "\n",
    "    #s_up = binp(psi_up)\n",
    "    #s_down = binp(psi_down)\n",
    "    #print(s_up,s_down)\n",
    "    if countBits(psi_up)+countBits(psi_down) == Q:\n",
    "        return True\n",
    "def basis_0(L,Q1,Q2):\n",
    "    states = []\n",
    "    for I in range(4**L):\n",
    "        if symmsector(L,I,Q1,Q2):\n",
    "            states.append(I)\n",
    "    return states, len(states)\n",
    "def basis_00(L,Q1,Q2):\n",
    "    ''' \n",
    "    generates Lin lookup tables\n",
    "    '''\n",
    "    states = []\n",
    "    J_up = {}\n",
    "    J_down = {}\n",
    "    J = 0\n",
    "    for I_down in range(2**L):\n",
    "        if countBits(I_down) == Q2:\n",
    "            count = 0\n",
    "            for I_up in range(2**L):\n",
    "                if countBits(I_up) == Q1:\n",
    "                    ###\n",
    "                    J_up[I_up] = count\n",
    "                    J_down[I_down] = J - J_up[I_up]\n",
    "                    ###\n",
    "                    states.append(I_up+I_down*2**L)\n",
    "                    count +=1\n",
    "                    J += 1\n",
    "    return states, len(states),J_up,J_down,J\n",
    "def basis_tot(L,Q):\n",
    "    states = []\n",
    "    for I in range(4**L):\n",
    "        if symmsectorTot(L,I,Q):\n",
    "            states.append(I)\n",
    "    return states, len(states)\n",
    "def basis_1(L,Q1,Q2):\n",
    "    '''\n",
    "    creates basis recurseively. probably not important if we are working at the level of the chain since there L=2-4 only. \n",
    "    '''\n",
    "    states = []\n",
    "    psi_up_init = 2**(Q1)-1\n",
    "    psi_down_init = 2**(Q2)-1\n",
    "    psi_up = psi_up_init\n",
    "    psi_down = psi_down_init\n",
    "    s = psi_up + psi_down*2**L\n",
    "    while True:\n",
    "        Bup = countBits(psi_up) == Q1\n",
    "        Bdown = countBits(psi_down) == Q2\n",
    "        if Bup and Bdown:\n",
    "            states.append(s)\n",
    "        #now the next step is to look from mzstategenerator2 function and move 1's to the left for both up and down spins to create states of same (n_ip,n_down) sector.\n",
    "\n",
    "def flip(s,i,j):\n",
    "    '''\n",
    "    given an integer s, flip its binary elements at indices i,j and return new integer s'\n",
    "    ---------------------------------------------------------------------------------------\n",
    "    Do this by creating a mask that is non-zero only at affected sites, and do XOR with our state. \n",
    "    so one site has  T T -> F (full goes to empty) and other has F T -> T (empty goes full)\n",
    "    '''\n",
    "    mask = 2**(i)+2**(j)\n",
    "    s = s^mask \n",
    "    return s\n",
    "\n",
    "def hop(I1,i,j):\n",
    "    '''\n",
    "    if hopping is allowed, outputs integer I2 that it maps to.\n",
    "    This is for a single spin\n",
    "    '''\n",
    "    mask = 2**(i)+2**(j)\n",
    "    K = I1 & mask #bitwise AND.\n",
    "    L = K ^ mask #bitwise XOR.\n",
    "    # L will have structure 0000000[i]0000[j]00000 and there's four cases:\n",
    "    #1) L = mask means I1[i]=I1[j]=0 -> hopping is not allowed\n",
    "    #2) L = 000..00 means I1[i]=I1[j]=1 -> hopping is not allowed\n",
    "    #3&4) L = ...[1]...[0]... or L = ...[0]...[1]... means hopping is allowed, in which case new integer is \n",
    "    if L == mask or L == 0:\n",
    "        #print('no hop')\n",
    "        I2 = -1#flag to signify no hopping\n",
    "    else:\n",
    "        I2 = I1 - K + L\n",
    "    return I2\n",
    "########################################################################\n",
    "def hop_spinful(L,states,m,i,j,J_down,J_up):\n",
    "    ''' \n",
    "    m: basis index \n",
    "    out: n basis index\n",
    "    '''\n",
    "    print('og state')\n",
    "    print('--------------')\n",
    "    basisVisualizer(L=L,psi=states[m])\n",
    "    print('--'*10)\n",
    "    print('derived states:')\n",
    "    psi =  states[m]\n",
    "    psi_up = psi%(2**L)\n",
    "    psi_down = psi//(2**L)\n",
    "    nup = J_up[psi_up]\n",
    "    ndown = J_down[psi_down]\n",
    "    psi_up_prime = hop(psi_up,i,j)\n",
    "    psi_down_prime = hop(psi_down,i,j)\n",
    "    ns = []\n",
    "    if psi_up_prime!= -1:\n",
    "        #print(psi_up_prime)\n",
    "        nup_prime = J_up[psi_up_prime]\n",
    "        ns.append(nup_prime + ndown)\n",
    "        basisVisualizer(L=L,psi=psi_up_prime+psi_down*2**L)\n",
    "        print('-'*10)\n",
    "    if psi_down_prime!= -1:\n",
    "        #print(psi_down_prime)\n",
    "        ndown_prime = J_down[psi_down_prime]\n",
    "        ns.append(nup + ndown_prime)\n",
    "        basisVisualizer(L=L,psi=psi_up+psi_down_prime*2**L)\n",
    "        print('-'*10)\n",
    "    return ns\n",
    "def double_occupancy(L,psi,i):\n",
    "    '''\n",
    "    counts number of electrons at site i.\n",
    "    if psi AND mask == mask that means psi at site i has both up and down electrons\n",
    "    '''\n",
    "    mask = 2**(i)+2**(L+i)\n",
    "    if (psi & mask) == mask:\n",
    "        return 1\n",
    "    else:\n",
    "        return 0\n",
    "def occupancy(L,psi,i):\n",
    "    mask = 2**(i)+2**(L+i)\n",
    "    occ = countBits(psi & mask)\n",
    "    return occ\n",
    "    \n",
    "def hamiltonian_section_full(parameters):\n",
    "    ############################\n",
    "    #0) read parameters\n",
    "    Q_up = parameters['Electrons_up']\n",
    "    Q_down = parameters['Electrons_down']\n",
    "    L = parameters['L']\n",
    "    t = parameters['hop']\n",
    "    mu = parameters['mu']\n",
    "    U = parameters['int']\n",
    "    mu_eff = mu+0.5*U\n",
    "    mu_eff = mu\n",
    "    ############################\n",
    "    #1) create basis\n",
    "    states, M,J_up,J_down,J = basis_00(L=L,Q1=Q_up,Q2=Q_down)\n",
    "    #2) build Hamiltonian\n",
    "    H = np.zeros((M,M),dtype=float)\n",
    "    for m in range(M):\n",
    "        state = states[m]\n",
    "        for i in range(L):\n",
    "            j = (i+1)%L\n",
    "            #############\n",
    "            #interaction#\n",
    "            ######&######\n",
    "            ##chem pot###\n",
    "            #############\n",
    "            occ = occupancy(L,state,i)\n",
    "            if occ == 2:\n",
    "                H[m,m] += U\n",
    "            H[m,m] -= mu_eff*occ\n",
    "            #############\n",
    "            ###hopping###\n",
    "            #############\n",
    "            psi_up = state%(2**L)\n",
    "            psi_down = state//(2**L)\n",
    "            nup = J_up[psi_up]\n",
    "            ndown = J_down[psi_down]\n",
    "            psi_up_prime = hop(psi_up,i,j)\n",
    "            psi_down_prime = hop(psi_down,i,j)\n",
    "            if psi_up_prime!= -1:\n",
    "                nup_prime = J_up[psi_up_prime]\n",
    "                H[m,nup_prime + ndown] -= t\n",
    "            if psi_down_prime!= -1:\n",
    "                ndown_prime = J_down[psi_down_prime]\n",
    "                H[m,nup + ndown_prime] -= t\n",
    "    print(np.all(H==H.T))\n",
    "    return H "
   ]
  },
  {
   "cell_type": "code",
   "execution_count": 142,
   "metadata": {},
   "outputs": [
    {
     "name": "stdout",
     "output_type": "stream",
     "text": [
      "0 4\n",
      "1 3\n",
      "2 2\n",
      "3 1\n",
      "4 0\n"
     ]
    }
   ],
   "source": [
    "L = 4\n",
    "for n_up in np.arange(0,L+1):\n",
    "    for n_down in np.arange(0,L+1):\n",
    "        if n_up + n_down != L: continue\n",
    "        print(n_up,n_down)"
   ]
  },
  {
   "cell_type": "code",
   "execution_count": 132,
   "metadata": {},
   "outputs": [
    {
     "name": "stdout",
     "output_type": "stream",
     "text": [
      "True\n"
     ]
    }
   ],
   "source": [
    "parameters = {}\n",
    "parameters['Electrons_up'] = 2\n",
    "parameters['Electrons_down'] = 2\n",
    "parameters['L'] = 4\n",
    "parameters['mu'] = 2\n",
    "parameters['int'] = 5\n",
    "parameters['hop'] = 1\n",
    "H2 = hamiltonian_section_full(parameters=parameters)"
   ]
  },
  {
   "cell_type": "code",
   "execution_count": 140,
   "metadata": {},
   "outputs": [
    {
     "data": {
      "text/plain": [
       "<matplotlib.colorbar.Colorbar at 0x7f1b5fe0aed0>"
      ]
     },
     "execution_count": 140,
     "metadata": {},
     "output_type": "execute_result"
    },
    {
     "data": {
      "image/png": "[encoded data removed]",
      "text/plain": [
       "<Figure size 640x480 with 2 Axes>"
      ]
     },
     "metadata": {},
     "output_type": "display_data"
    }
   ],
   "source": [
    "plt.imshow(H2)\n",
    "plt.colorbar()"
   ]
  },
  {
   "cell_type": "code",
   "execution_count": 133,
   "metadata": {},
   "outputs": [
    {
     "data": {
      "text/plain": [
       "<matplotlib.image.AxesImage at 0x7f1b682ad350>"
      ]
     },
     "execution_count": 133,
     "metadata": {},
     "output_type": "execute_result"
    },
    {
     "data": {
      "image/png": "[encoded data removed]",
      "text/plain": [
       "<Figure size 640x480 with 1 Axes>"
      ]
     },
     "metadata": {},
     "output_type": "display_data"
    }
   ],
   "source": [
    "boolean_matrix = (H2 != 0)\n",
    "plt.imshow(boolean_matrix, cmap='grey', interpolation='nearest')"
   ]
  },
  {
   "cell_type": "code",
   "execution_count": 134,
   "metadata": {},
   "outputs": [],
   "source": [
    "states, l,J_up,J_down,J = basis_00(4,2,2)\n"
   ]
  },
  {
   "cell_type": "code",
   "execution_count": 137,
   "metadata": {},
   "outputs": [
    {
     "name": "stdout",
     "output_type": "stream",
     "text": [
      "(↑↓)(↑↓)oo\n"
     ]
    }
   ],
   "source": [
    "basisVisualizer(4,states[35])"
   ]
  },
  {
   "cell_type": "code",
   "execution_count": 16,
   "metadata": {},
   "outputs": [
    {
     "name": "stdout",
     "output_type": "stream",
     "text": [
      "o↑(↑↓)\n"
     ]
    }
   ],
   "source": [
    "basisVisualizer(L=3,psi=states[0])"
   ]
  },
  {
   "cell_type": "code",
   "execution_count": 8,
   "metadata": {},
   "outputs": [
    {
     "name": "stdout",
     "output_type": "stream",
     "text": [
      "[11, 13, 14, 19, 21, 22, 35, 37, 38]\n"
     ]
    }
   ],
   "source": [
    "print(states)"
   ]
  },
  {
   "cell_type": "code",
   "execution_count": 9,
   "metadata": {},
   "outputs": [
    {
     "name": "stdout",
     "output_type": "stream",
     "text": [
      "(3, 1) (1, 1) 1\n",
      "----------\n",
      "(3, 1) (2, 4) 4\n",
      "----------\n",
      "(3, 1) (4, 7) 7\n",
      "----------\n",
      "(5, 2) (1, 1) 2\n",
      "----------\n",
      "(5, 2) (2, 4) 5\n",
      "----------\n",
      "(5, 2) (4, 7) 8\n",
      "----------\n",
      "(6, 3) (1, 1) 3\n",
      "----------\n",
      "(6, 3) (2, 4) 6\n",
      "----------\n",
      "(6, 3) (4, 7) 9\n",
      "----------\n"
     ]
    }
   ],
   "source": [
    "for k in J_up.keys():\n",
    "    for l in J_down.keys():\n",
    "        print((k,J_up[k]+1),(l,J_down[l]+1),J_up[k]+J_down[l]+1)\n",
    "        print('-'*10)"
   ]
  },
  {
   "cell_type": "code",
   "execution_count": 10,
   "metadata": {},
   "outputs": [
    {
     "data": {
      "text/plain": [
       "{1: 0, 2: 3, 4: 6}"
      ]
     },
     "execution_count": 10,
     "metadata": {},
     "output_type": "execute_result"
    }
   ],
   "source": [
    "J_down"
   ]
  },
  {
   "cell_type": "code",
   "execution_count": 53,
   "metadata": {},
   "outputs": [
    {
     "name": "stdout",
     "output_type": "stream",
     "text": [
      "og state\n",
      "--------------\n",
      "ooooooo↑↑↓\n",
      "--------------------\n",
      "derived states:\n",
      "ooooooo↑o(↑↓)\n",
      "----------\n",
      "ooooooo↑(↑↓)o\n",
      "----------\n",
      "og state\n",
      "--------------\n",
      "ooooooo↑↑↓\n",
      "--------------------\n",
      "derived states:\n",
      "og state\n",
      "--------------\n",
      "ooooooo↑↑↓\n",
      "--------------------\n",
      "derived states:\n",
      "oooooo↑o↑↓\n",
      "----------\n",
      "og state\n",
      "--------------\n",
      "ooooooo↑↑↓\n",
      "--------------------\n",
      "derived states:\n",
      "og state\n",
      "--------------\n",
      "ooooooo↑↑↓\n",
      "--------------------\n",
      "derived states:\n",
      "og state\n",
      "--------------\n",
      "ooooooo↑↑↓\n",
      "--------------------\n",
      "derived states:\n",
      "og state\n",
      "--------------\n",
      "ooooooo↑↑↓\n",
      "--------------------\n",
      "derived states:\n",
      "og state\n",
      "--------------\n",
      "ooooooo↑↑↓\n",
      "--------------------\n",
      "derived states:\n",
      "og state\n",
      "--------------\n",
      "ooooooo↑↑↓\n",
      "--------------------\n",
      "derived states:\n",
      "og state\n",
      "--------------\n",
      "ooooooo↑↑↓\n",
      "--------------------\n",
      "derived states:\n",
      "↓oooooo↑↑o\n",
      "----------\n"
     ]
    }
   ],
   "source": [
    "for i in range(10):\n",
    "    hop_spinful(L=10,states = states,m = 2,i = i,j = (i+1)%10,J_down = J_down,J_up = J_up)"
   ]
  },
  {
   "cell_type": "code",
   "execution_count": 21,
   "metadata": {},
   "outputs": [
    {
     "name": "stdout",
     "output_type": "stream",
     "text": [
      "o↑(↑↓)\n"
     ]
    }
   ],
   "source": [
    "basisVisualizer(L=3,psi=states[0])"
   ]
  },
  {
   "cell_type": "code",
   "execution_count": 25,
   "metadata": {},
   "outputs": [
    {
     "ename": "IndexError",
     "evalue": "list index out of range",
     "output_type": "error",
     "traceback": [
      "\u001b[0;31m---------------------------------------------------------------------------\u001b[0m",
      "\u001b[0;31mIndexError\u001b[0m                                Traceback (most recent call last)",
      "Cell \u001b[0;32mIn[25], line 1\u001b[0m\n\u001b[0;32m----> 1\u001b[0m basisVisualizer(L\u001b[38;5;241m=\u001b[39m\u001b[38;5;241m3\u001b[39m,psi\u001b[38;5;241m=\u001b[39m\u001b[43mstates\u001b[49m\u001b[43m[\u001b[49m\u001b[38;5;241;43m13\u001b[39;49m\u001b[43m]\u001b[49m)\n",
      "\u001b[0;31mIndexError\u001b[0m: list index out of range"
     ]
    }
   ],
   "source": [
    "basisVisualizer(L=3,psi=states[13])"
   ]
  },
  {
   "cell_type": "code",
   "execution_count": 24,
   "metadata": {},
   "outputs": [
    {
     "data": {
      "text/plain": [
       "13"
      ]
     },
     "execution_count": 24,
     "metadata": {},
     "output_type": "execute_result"
    }
   ],
   "source": [
    "hop(states[0],2,1)"
   ]
  },
  {
   "cell_type": "code",
   "execution_count": 99,
   "metadata": {},
   "outputs": [
    {
     "data": {
      "text/plain": [
       "2"
      ]
     },
     "execution_count": 99,
     "metadata": {},
     "output_type": "execute_result"
    }
   ],
   "source": [
    "test = {}\n",
    "len(test)\n",
    "test['a'] = 1\n",
    "test['b'] = 2\n",
    "len(test)"
   ]
  },
  {
   "cell_type": "code",
   "execution_count": 95,
   "metadata": {},
   "outputs": [
    {
     "data": {
      "text/plain": [
       "([7,\n",
       "  11,\n",
       "  13,\n",
       "  14,\n",
       "  19,\n",
       "  21,\n",
       "  22,\n",
       "  25,\n",
       "  26,\n",
       "  28,\n",
       "  35,\n",
       "  37,\n",
       "  38,\n",
       "  41,\n",
       "  42,\n",
       "  44,\n",
       "  49,\n",
       "  50,\n",
       "  52,\n",
       "  56],\n",
       " 20)"
      ]
     },
     "execution_count": 95,
     "metadata": {},
     "output_type": "execute_result"
    }
   ],
   "source": [
    "basis_tot(L=3,Q=3)"
   ]
  },
  {
   "cell_type": "code",
   "execution_count": 75,
   "metadata": {},
   "outputs": [
    {
     "data": {
      "text/plain": [
       "([11, 13, 14, 19, 21, 22, 35, 37, 38], 9)"
      ]
     },
     "execution_count": 75,
     "metadata": {},
     "output_type": "execute_result"
    }
   ],
   "source": [
    "basis_0(L=L,Q1=2,Q2 = 1)"
   ]
  },
  {
   "cell_type": "code",
   "execution_count": 76,
   "metadata": {},
   "outputs": [
    {
     "name": "stdout",
     "output_type": "stream",
     "text": [
      "2 0\n"
     ]
    }
   ],
   "source": [
    "L =2\n",
    "psi = 2\n",
    "psi_up = psi%(2**L)\n",
    "psi_down = psi//(2**L)\n",
    "print(psi_up,psi_down)"
   ]
  },
  {
   "cell_type": "code",
   "execution_count": 84,
   "metadata": {},
   "outputs": [],
   "source": [
    "X = countBits(psi_up) == 1\n",
    "Y = countBits(psi_up) == 0"
   ]
  },
  {
   "cell_type": "code",
   "execution_count": 85,
   "metadata": {},
   "outputs": [
    {
     "data": {
      "text/plain": [
       "False"
      ]
     },
     "execution_count": 85,
     "metadata": {},
     "output_type": "execute_result"
    }
   ],
   "source": [
    "X and Y"
   ]
  },
  {
   "cell_type": "code",
   "execution_count": 70,
   "metadata": {},
   "outputs": [
    {
     "name": "stdout",
     "output_type": "stream",
     "text": [
      "o↑(↑↓)\n",
      "----------\n",
      "↑o(↑↓)\n",
      "----------\n",
      "↑↑↓\n",
      "----------\n",
      "o(↑↓)↑\n",
      "----------\n",
      "↑↓↑\n",
      "----------\n",
      "↑(↑↓)o\n",
      "----------\n",
      "↓↑↑\n",
      "----------\n",
      "(↑↓)o↑\n",
      "----------\n",
      "(↑↓)↑o\n",
      "----------\n"
     ]
    }
   ],
   "source": [
    "L = 3\n",
    "for I in range(0,4**L):\n",
    "    #print(I)\n",
    "    #basisVisualizer(L=L,psi=I)\n",
    "    if symmsector(L,I,2,1):\n",
    "        basisVisualizer(L=L,psi=I)\n",
    "        print('-'*10)"
   ]
  },
  {
   "cell_type": "code",
   "execution_count": 52,
   "metadata": {},
   "outputs": [
    {
     "name": "stdout",
     "output_type": "stream",
     "text": [
      "(↑↓)o↑\n"
     ]
    }
   ],
   "source": [
    "basisVisualizer(L=3,psi=5+4*2**3)"
   ]
  },
  {
   "cell_type": "markdown",
   "metadata": {},
   "source": []
  }
 ],
 "metadata": {
  "kernelspec": {
   "display_name": "pyalf",
   "language": "python",
   "name": "python3"
  },
  "language_info": {
   "codemirror_mode": {
    "name": "ipython",
    "version": 3
   },
   "file_extension": ".py",
   "mimetype": "text/x-python",
   "name": "python",
   "nbconvert_exporter": "python",
   "pygments_lexer": "ipython3",
   "version": "3.11.4"
  }
 },
 "nbformat": 4,
 "nbformat_minor": 2
}

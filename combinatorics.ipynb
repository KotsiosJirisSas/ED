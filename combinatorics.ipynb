{
 "cells": [
  {
   "cell_type": "markdown",
   "metadata": {},
   "source": [
    "I am considering a square lattice (N1xN2) with 2 flavors and two spins with two conserved U(1)s per chain, so N_up and n_down are individually conserved per chain. If we only had total number and spin conservations the combinatorics would be\n",
    "\n",
    "$$\n",
    "\\begin{pmatrix} 2N_1N_2 \\\\ n_\\uparrow \\end{pmatrix}\\begin{pmatrix} 2N_1N_2 \\\\ n_\\downarrow \\end{pmatrix}\n",
    "$$\n"
   ]
  },
  {
   "cell_type": "markdown",
   "metadata": {},
   "source": [
    "If we have individual conservations per species:\n",
    "$$\n",
    "\\prod_{\\eta=1,2|s=\\uparrow,\\downarrow}\\begin{pmatrix} N_1N_2 \\\\ n^\\eta_s \\end{pmatrix}\n",
    "$$\n",
    "--------------------------\n",
    "To compare these two we consider the $\\{n_s\\}=(N_1 N_2,N_1 N_2)$ sector with the $\\{n^\\eta_s\\}=(N_1 N_2/2,N_1 N_2/2,N_1 N_2/2,N_1 N_2/2)$ sector"
   ]
  },
  {
   "cell_type": "code",
   "execution_count": 1,
   "metadata": {},
   "outputs": [],
   "source": [
    "from itertools import product\n",
    "from math import comb\n",
    "import numpy as np\n",
    "import matplotlib.pyplot as plt"
   ]
  },
  {
   "cell_type": "code",
   "execution_count": 48,
   "metadata": {},
   "outputs": [
    {
     "name": "stdout",
     "output_type": "stream",
     "text": [
      "1.0\n",
      "1.0\n"
     ]
    }
   ],
   "source": [
    "def f1(N,N_up,N_down):\n",
    "    return comb(int(2*N),N_up)*comb(int(2*N),N_down)\n",
    "def f2(N,N_up_1,N_up_2,N_down_1,N_down_2):\n",
    "    return comb(int(N),N_up_1)*comb(int(N),N_up_2)*comb(int(N),N_down_1)*comb(int(N),N_down_2)\n",
    "N = 10\n",
    "sum1 = 0\n",
    "for n_up in range(0,2*N+1):\n",
    "    for n_down in range(0,2*N+1):\n",
    "        sum1+= f1(N,n_up,n_down)\n",
    "sum2 = 0\n",
    "for n_up_1 in range(0,N+1):\n",
    "    for n_down_1 in range(0,N+1):\n",
    "        for n_up_2 in range(0,N+1):\n",
    "            for n_down_2 in range(0,N+1):\n",
    "                sum2+= f2(N,n_up_1,n_down_1,n_up_2,n_down_2)\n",
    "print(sum1/(16**(N)))\n",
    "print(sum2/(16**(N)))\n"
   ]
  },
  {
   "cell_type": "code",
   "execution_count": 41,
   "metadata": {},
   "outputs": [
    {
     "data": {
      "text/plain": [
       "<matplotlib.legend.Legend at 0x7f76bb783050>"
      ]
     },
     "execution_count": 41,
     "metadata": {},
     "output_type": "execute_result"
    },
    {
     "data": {
      "image/png": "[encoded data removed]",
      "text/plain": [
       "<Figure size 640x480 with 1 Axes>"
      ]
     },
     "metadata": {},
     "output_type": "display_data"
    }
   ],
   "source": [
    "for N1N2 in np.array([4,6,8,9,10]):\n",
    "    n_s = int(N1N2)\n",
    "    n_eta_s = int(N1N2*0.5)\n",
    "    comb1 = comb(int(2*N1N2),n_s)**2\n",
    "    comb2 = comb(int(N1N2),n_eta_s)**4\n",
    "    plt.scatter(N1N2,np.log(comb1/N1N2),marker='x',c='b')\n",
    "    plt.scatter(N1N2,np.log(comb2/N1N2),marker='v',c='b')\n",
    "    plt.scatter(N1N2,np.log(16**N1N2),marker='o',c='k')\n",
    "    plt.scatter(N1N2,np.log(comb1),marker='x',c='k')\n",
    "    plt.scatter(N1N2,np.log(comb2),marker='v',c='k')\n",
    "plt.ylim([4,20])\n",
    "plt.yticks([8,10,12,14,16,18],['$10^{8}$','$10^{10}$','$10^{12}$','$10^{14}$','$10^{16}$','$10^{18}$'])\n",
    "plt.scatter(N1N2,1,marker='x',c='k',label='total $SU(2)$')\n",
    "plt.scatter(N1N2,1,marker='v',c='k',label='flavor $SU(2)$')\n",
    "plt.scatter(N1N2,1,marker='o',c='k',label='no symmetry')\n",
    "plt.scatter(N1N2,1,marker='x',c='b',label='total $SU(2)$xT')\n",
    "plt.scatter(N1N2,1,marker='v',c='b',label='flavor $SU(2)xT$')\n",
    "plt.scatter(N1N2,1,marker='o',c='b',label='no symmetry')\n",
    "plt.axhline(y=9,c='r',alpha=0.5,label='Lanczos cutoff')\n",
    "plt.legend()"
   ]
  },
  {
   "cell_type": "markdown",
   "metadata": {},
   "source": [
    "----------------------\n",
    "\n",
    "Now consider the case where there's an $(n_\\uparrow,n_\\downarrow)$ conserved per chain:\n",
    "\n",
    "$$\n",
    "\\prod_{s=\\uparrow,\\downarrow}\\left( \\prod_{i=1}^{L_1} \\begin{pmatrix} L_2 \\\\ n_{i,1s} \\end{pmatrix} \\right) \\times \\left( \\prod_{i=1}^{L_2} \\begin{pmatrix} L_1 \\\\ n_{i,2s} \\end{pmatrix} \\right)\n",
    "$$\n",
    "where each sector is made up of the sets of coppupancies along each chain \n",
    "$$\n",
    "\\{\\{n_{i,1\\uparrow},n_{i,1\\downarrow}\\},\\{n_{j,2\\uparrow},n_{j,2\\downarrow}\\}\\}\n",
    "$$\n",
    "with $i$ the chains hosting flav 1 electrons and $j$ the chains hosting flav 2 electrons. Each total symmetry sector has to satisfy\n",
    "$$\n",
    "\\sum_i n_{i,1\\uparrow} + n_{i,1\\downarrow} = N_1 \\\\\n",
    "\\sum_i \\frac{n_{i,1\\uparrow} - n_{i,1\\downarrow}}{2} = S^z_{1}\\\\\n",
    "\\sum_i n_{i,2\\uparrow} + n_{i,2\\downarrow} = N_2 \\\\\n",
    "\\sum_i \\frac{n_{i,2\\uparrow} - n_{i,2\\downarrow}}{2} = S^z_{2}\\\\\n",
    "N_1 + N_2 = N\\\\\n",
    "S^z_1 + S^z_2 = S^z \\\\\n",
    "$$\n",
    "\n",
    "------------------------------\n",
    "\n",
    "First we want to check that the hilbert space is summed correctly to $16^{N_1N_2}$ and then we want to see the gain we get by calculating the total number of sectors and the size of the largest sector.\n",
    "-------------------------------\n",
    "-------------------------------\n",
    "1) Summing all symmetry sectors"
   ]
  },
  {
   "cell_type": "code",
   "execution_count": 91,
   "metadata": {},
   "outputs": [],
   "source": [
    "#first we generate all partitions {n1,n2,....,nM} such that sum_i n_i = N\n",
    "def partitions_summing_to(value, parts):\n",
    "    if parts == 1:\n",
    "        yield [value]\n",
    "    else:\n",
    "        for i in range(value + 1):\n",
    "            for rest in partitions_summing_to(value - i, parts - 1):\n",
    "                yield [i] + rest\n",
    "####################\n",
    "def partitions(value,parts,max):\n",
    "    \"\"\"\n",
    "    Generate all ways to partition value into parts non-negative integers,\n",
    "    then filter out any partitions where any entry exceeds max.\n",
    "    \"\"\"\n",
    "    def helper(remaining, parts_left):\n",
    "        # Base case: If no parts left to fill\n",
    "        if parts_left == 0:\n",
    "            if remaining == 0:\n",
    "                yield []\n",
    "            return\n",
    "\n",
    "        # Generate partitions\n",
    "        for i in range(remaining + 1):  # Allow any non-negative integer\n",
    "            for rest in helper(remaining - i, parts_left - 1):\n",
    "                yield [i] + rest\n",
    "\n",
    "    # Generate all partitions\n",
    "    all_partitions = list(helper(value,parts))\n",
    "\n",
    "    # Filter out partitions with any entry > L2\n",
    "    filtered_partitions = [p for p in all_partitions if all(x <= max for x in p)]\n",
    "\n",
    "    return filtered_partitions\n",
    "########################\n",
    "# now i want to create one aprtition per spin/flavor and then create a combined partition\n",
    "########################\n",
    "def partition_products(N_up, N_down, L1, L2, target_sum, target_diff):\n",
    "    \"\"\"\n",
    "    Generate products of partitions and filter based on specific sum and difference conditions.\n",
    "    \"\"\"\n",
    "    # Generate partitions for N_up and N_down\n",
    "    partitions_up = partitions(N_up,L1,L2)\n",
    "    partitions_down = partitions(N_down, L1, L2)\n",
    "    # Create the Cartesian product of partitions\n",
    "    filtered_results = []\n",
    "    for up, down in product(partitions_up, partitions_down):\n",
    "        # Calculate sum and difference for each pair of partitions\n",
    "        total_sum = sum(up) + sum(down)\n",
    "        total_diff = sum(up) - sum(down)\n",
    "\n",
    "        # Check if conditions are met\n",
    "        if total_sum == target_sum and total_diff == target_diff:\n",
    "            filtered_results.append((up, down))\n",
    "\n",
    "    return filtered_results\n",
    "########################################\n",
    "#step1: generate all partitions (N_1_up,N_1_down,N_2_up,N_2_down) consistent with  (N_Tot,S_Tot)\n",
    "N = 9\n",
    "S = 0\n",
    "L1 = 4\n",
    "L2 = 4\n",
    "parts= partitions(N,4,max=N)\n",
    "filtered_parts = []\n",
    "for p in parts:\n",
    "    if np.sum(p[::2]) - np.sum(p[1::2]) == 2*S:\n",
    "        filtered_parts.append(p)\n",
    "################################\n",
    "#so filtered_parts has all the combinations of (N_1_up,N_1_down,N_2_up,N_2_down) compatible with total N,S.count\n",
    "#Then, extract (N_1_up,N_1_down,N_2_up,N_2_down) and calculate further partitions into the individual chain numbers\n",
    "\n"
   ]
  },
  {
   "cell_type": "code",
   "execution_count": 110,
   "metadata": {},
   "outputs": [],
   "source": [
    "def func1(p,L1,L2):\n",
    "    '''\n",
    "    Given a partition p as a list calculate a function associated with the partition\n",
    "    '''\n",
    "    f = 1\n",
    "    if len(p) != L1:\n",
    "        print('ERRRRRRRROR')\n",
    "        quit()\n",
    "    for pi in p:\n",
    "        f *= comb(L2,pi)\n",
    "    return f\n",
    "def func2(p,L1,L2):\n",
    "    '''\n",
    "    Given a partition p as a list calculate a function associated with the partition\n",
    "    '''\n",
    "    f = 1\n",
    "    if len(p) != L2:\n",
    "        print('ERRRRRRRROR')\n",
    "        quit()\n",
    "    for pi in p:\n",
    "        f *= comb(L1,pi)\n",
    "    return f\n",
    "def totalpartitions(N_1_up,N_1_down,N_2_up,N_2_down,L1,L2):\n",
    "    '''\n",
    "    0 =< N_i_j =< L1*L2\n",
    "    all combos are possible... \n",
    "    xxxxxxxxxxxxxxxxxxxxxxxxxxxxxxx\n",
    "    N_TOT = N_1_up + N_1_down + N_2_up + N_2_down\n",
    "    S_TOT = 0.5*(N_1_up - N_1_down + N_2_up -N_2_down)\n",
    "    '''\n",
    "    #generate partitions of each section and combine them in the end\n",
    "    n_1_up = partitions(value = N_1_up,parts = L1,max = L2)\n",
    "    n_1_down = partitions(value = N_1_down,parts = L1,max = L2)\n",
    "    n_2_up = partitions(value = N_2_up,parts = L2,max = L1)\n",
    "    n_2_down = partitions(value = N_2_down,parts = L2,max = L1)\n",
    "    n_1_up_combinations = {tuple(p): func1(p,L1,L2) for p in n_1_up}\n",
    "    n_1_down_combinations = {tuple(p): func1(p,L1,L2) for p in n_1_down}\n",
    "    n_2_up_combinations = {tuple(p): func2(p,L1,L2) for p in n_2_up}\n",
    "    n_2_down_combinations = {tuple(p): func2(p,L1,L2) for p in n_2_down}\n",
    "    #partitions_final = product(n_1_up,n_1_down,n_2_up,n_2_down)\n",
    "\n",
    "    combined_results = {}\n",
    "    for x,y,z,w in product(n_1_up,n_1_down,n_2_up,n_2_down):\n",
    "        key = (tuple(x), tuple(y),tuple(z),tuple(w))\n",
    "        combined_results[key] = n_1_up_combinations[tuple(x)]*n_1_down_combinations[tuple(y)]*n_2_up_combinations[tuple(z)]*n_2_down_combinations[tuple(w)]\n",
    "    \n",
    "    return sum(combined_results.values()),len(combined_results),max(combined_results.values())"
   ]
  },
  {
   "cell_type": "code",
   "execution_count": 129,
   "metadata": {},
   "outputs": [
    {
     "name": "stdout",
     "output_type": "stream",
     "text": [
      "1.0\n",
      "6561\n",
      "1296\n",
      "65536\n"
     ]
    }
   ],
   "source": [
    "N = 4 # system size is 3x3\n",
    "sum1 = 0\n",
    "sector_num= 0\n",
    "max_sec = 0\n",
    "for n_up_1 in range(0,N+1):\n",
    "    for n_down_1 in range(0,N+1):\n",
    "        for n_up_2 in range(0,N+1):\n",
    "            for n_down_2 in range(0,N+1):\n",
    "                s,l = totalpartitions(n_up_1,n_down_1,n_up_2,n_down_2,2,2)\n",
    "                sum1+= s\n",
    "                sector_num += l\n",
    "                if s > max_sec:\n",
    "                    max_sec = s\n",
    "print(sum1/(16**(N)))\n",
    "print(sector_num)\n",
    "print(max_sec)\n",
    "print((16**(N)))"
   ]
  },
  {
   "cell_type": "code",
   "execution_count": 126,
   "metadata": {},
   "outputs": [],
   "source": [
    "def max_sector(N):\n",
    "    if N%3 == 0:\n",
    "        L1 = 3\n",
    "        L2 = int(N/3)\n",
    "    elif N % 2 == 0:\n",
    "        L1 = 2\n",
    "        L2 = int(N/2)\n",
    "    print(L1,L2)\n",
    "    sum1 = 0\n",
    "    sector_num= 0\n",
    "    max_sec = 0\n",
    "    for n_up_1 in range(0,N+1):\n",
    "        for n_down_1 in range(0,N+1):\n",
    "            for n_up_2 in range(0,N+1):\n",
    "                for n_down_2 in range(0,N+1):\n",
    "                    s,l = totalpartitions(n_up_1,n_down_1,n_up_2,n_down_2,L1,L2)\n",
    "                    sum1+= s\n",
    "                    sector_num += l\n",
    "                    if s > max_sec:\n",
    "                        max_sec = s\n",
    "    return max_sec  \n",
    "def max_sector_hist(N):\n",
    "    if N%3 == 0:\n",
    "        L1 = 3\n",
    "        L2 = int(N/3)\n",
    "    elif N % 2 == 0:\n",
    "        L1 = 2\n",
    "        L2 = int(N/2)\n",
    "    print(L1,L2)\n",
    "    sum1 = 0\n",
    "    sec_size = []\n",
    "    for n_up_1 in range(0,N+1):\n",
    "        for n_down_1 in range(0,N+1):\n",
    "            for n_up_2 in range(0,N+1):\n",
    "                for n_down_2 in range(0,N+1):\n",
    "                    s,l = totalpartitions(n_up_1,n_down_1,n_up_2,n_down_2,L1,L2)\n",
    "                    sec_size.append(s)\n",
    "                    sum1+= s\n",
    "                    sector_num += l\n",
    "                    if s > max_sec:\n",
    "                        max_sec = s\n",
    "    return max_sec  "
   ]
  },
  {
   "cell_type": "code",
   "execution_count": null,
   "metadata": {},
   "outputs": [],
   "source": []
  },
  {
   "cell_type": "code",
   "execution_count": 135,
   "metadata": {},
   "outputs": [],
   "source": [
    "from math import log10"
   ]
  },
  {
   "cell_type": "code",
   "execution_count": 134,
   "metadata": {},
   "outputs": [
    {
     "data": {
      "text/plain": [
       "np.float64(5.780743515792329)"
      ]
     },
     "execution_count": 134,
     "metadata": {},
     "output_type": "execute_result"
    }
   ],
   "source": [
    "np.log(comb(4,2)**4/4)"
   ]
  },
  {
   "cell_type": "markdown",
   "metadata": {},
   "source": [
    "2) Gain by exploiting the symmetries"
   ]
  },
  {
   "cell_type": "code",
   "execution_count": 138,
   "metadata": {},
   "outputs": [
    {
     "name": "stdout",
     "output_type": "stream",
     "text": [
      "2 2\n",
      "3 2\n",
      "2 4\n",
      "3 3\n",
      "2 5\n"
     ]
    },
    {
     "data": {
      "text/plain": [
       "<matplotlib.legend.Legend at 0x7f7717f43050>"
      ]
     },
     "execution_count": 138,
     "metadata": {},
     "output_type": "execute_result"
    },
    {
     "data": {
      "image/png": "[encoded data removed]",
      "text/plain": [
       "<Figure size 640x480 with 1 Axes>"
      ]
     },
     "metadata": {},
     "output_type": "display_data"
    }
   ],
   "source": [
    "for N1N2 in np.array([4,6,8,9,10]):\n",
    "    n_s = int(N1N2)\n",
    "    n_eta_s = int(N1N2*0.5)\n",
    "    comb1 = comb(int(2*N1N2),n_s)**2\n",
    "    comb2 = comb(int(N1N2),n_eta_s)**4\n",
    "    plt.scatter(N1N2,log10(comb1/N1N2),marker='x',c='black')\n",
    "    plt.scatter(N1N2,log10(comb2/N1N2),marker='v',c='blue')\n",
    "    plt.scatter(N1N2,log10(16**N1N2),marker='o',c='red')\n",
    "    plt.scatter(N1N2,log10(max_sector(N1N2)/N1N2),marker='^',c='green')\n",
    "plt.ylim([2,20])\n",
    "plt.yticks([4,6,8,10,12,14,16],['$10^{4}$','$10^{6}$','$10^{8}$','$10^{10}$','$10^{12}$','$10^{14}$','$10^{16}$'])\n",
    "plt.scatter(N1N2,1,marker='x',c='black',label='total $SU(2)\\\\times T$')\n",
    "plt.scatter(N1N2,1,marker='v',c='blue',label='flavor $SU(2)\\\\times T$')\n",
    "plt.scatter(N1N2,1,marker='o',c='red',label='no symmetry')\n",
    "plt.scatter(N1N2,1,marker='^',c='green',label='full internal $\\\\times T$')\n",
    "plt.axhline(y=9,c='r',alpha=0.5,label='~ Lanczos cutoff')\n",
    "plt.legend()"
   ]
  },
  {
   "cell_type": "code",
   "execution_count": null,
   "metadata": {},
   "outputs": [],
   "source": []
  }
 ],
 "metadata": {
  "kernelspec": {
   "display_name": "pyalf",
   "language": "python",
   "name": "python3"
  },
  "language_info": {
   "codemirror_mode": {
    "name": "ipython",
    "version": 3
   },
   "file_extension": ".py",
   "mimetype": "text/x-python",
   "name": "python",
   "nbconvert_exporter": "python",
   "pygments_lexer": "ipython3",
   "version": "3.11.4"
  }
 },
 "nbformat": 4,
 "nbformat_minor": 2
}

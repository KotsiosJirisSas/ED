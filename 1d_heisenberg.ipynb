{
 "cells": [
  {
   "cell_type": "code",
   "execution_count": 99,
   "metadata": {},
   "outputs": [],
   "source": [
    "import utils.heisenberg_no_k as heis\n",
    "import utils.heisenberg_w_k as heisk\n",
    "import numpy as np\n",
    "import matplotlib.pyplot as plt\n",
    "import scipy.stats as spst\n",
    "from importlib import reload\n",
    "from matplotlib.colors import LogNorm"
   ]
  },
  {
   "cell_type": "code",
   "execution_count": 92,
   "metadata": {},
   "outputs": [
    {
     "data": {
      "text/plain": [
       "<module 'utils.heisenberg_no_k' from 'c:\\\\Users\\\\Kotsios2\\\\Documents\\\\GitHub\\\\ED\\\\utils\\\\heisenberg_no_k.py'>"
      ]
     },
     "execution_count": 92,
     "metadata": {},
     "output_type": "execute_result"
    }
   ],
   "source": [
    "reload(heis)"
   ]
  },
  {
   "cell_type": "code",
   "execution_count": 28,
   "metadata": {},
   "outputs": [
    {
     "name": "stdout",
     "output_type": "stream",
     "text": [
      "|↓|↑|↓|↓|↓|↓|↓|↓|↓|↓|\n"
     ]
    }
   ],
   "source": [
    "heis.basisVisualizer(10,2**8)"
   ]
  },
  {
   "cell_type": "code",
   "execution_count": 29,
   "metadata": {},
   "outputs": [
    {
     "name": "stdout",
     "output_type": "stream",
     "text": [
      "1111111111\n",
      "0b1111111111\n"
     ]
    }
   ],
   "source": [
    "print(heis.binp(2**10-1))\n",
    "print(bin(2**10-1))"
   ]
  },
  {
   "cell_type": "code",
   "execution_count": 25,
   "metadata": {},
   "outputs": [
    {
     "name": "stdout",
     "output_type": "stream",
     "text": [
      "L = 9 basis size: 512\n",
      "L = 10 basis size: 1024\n"
     ]
    },
    {
     "data": {
      "image/png": "[encoded data removed]",
      "text/plain": [
       "<Figure size 640x480 with 1 Axes>"
      ]
     },
     "metadata": {},
     "output_type": "display_data"
    }
   ],
   "source": [
    "for L in [9,10]:\n",
    "    basisSzList = heis.makeSzBasis(L)\n",
    "    SziVals  = []\n",
    "    sizeVals = []\n",
    "    for i in range(len(basisSzList)):\n",
    "        SziVals.append(-L+2*i)\n",
    "        sizeVals.append(len(basisSzList[i]))\n",
    "    plt.bar(SziVals,sizeVals,label=\"L=\"+str(L))\n",
    "    \n",
    "plt.xlabel(r\"$S_z$\",fontsize=15)\n",
    "plt.ylabel(\"# of elements\",fontsize=15)\n",
    "plt.legend()\n",
    "plt.show()"
   ]
  },
  {
   "cell_type": "code",
   "execution_count": 31,
   "metadata": {},
   "outputs": [
    {
     "data": {
      "text/plain": [
       "2"
      ]
     },
     "execution_count": 31,
     "metadata": {},
     "output_type": "execute_result"
    }
   ],
   "source": [
    "int(4/2)"
   ]
  },
  {
   "cell_type": "code",
   "execution_count": 33,
   "metadata": {},
   "outputs": [
    {
     "data": {
      "text/plain": [
       "0"
      ]
     },
     "execution_count": 33,
     "metadata": {},
     "output_type": "execute_result"
    }
   ],
   "source": [
    "(11+1)%12"
   ]
  },
  {
   "cell_type": "code",
   "execution_count": 41,
   "metadata": {},
   "outputs": [
    {
     "data": {
      "text/plain": [
       "27"
      ]
     },
     "execution_count": 41,
     "metadata": {},
     "output_type": "execute_result"
    }
   ],
   "source": [
    "heis.flip(29,1,2)"
   ]
  },
  {
   "cell_type": "code",
   "execution_count": null,
   "metadata": {},
   "outputs": [],
   "source": []
  },
  {
   "cell_type": "code",
   "execution_count": 37,
   "metadata": {},
   "outputs": [
    {
     "data": {
      "text/plain": [
       "'11101'"
      ]
     },
     "execution_count": 37,
     "metadata": {},
     "output_type": "execute_result"
    }
   ],
   "source": [
    "heis.binp(29)"
   ]
  },
  {
   "cell_type": "code",
   "execution_count": 42,
   "metadata": {},
   "outputs": [
    {
     "data": {
      "text/plain": [
       "'11011'"
      ]
     },
     "execution_count": 42,
     "metadata": {},
     "output_type": "execute_result"
    }
   ],
   "source": [
    "heis.binp(27)"
   ]
  },
  {
   "cell_type": "code",
   "execution_count": 62,
   "metadata": {},
   "outputs": [
    {
     "name": "stdout",
     "output_type": "stream",
     "text": [
      "True\n"
     ]
    },
    {
     "ename": "NameError",
     "evalue": "name 'e' is not defined",
     "output_type": "error",
     "traceback": [
      "\u001b[1;31m---------------------------------------------------------------------------\u001b[0m",
      "\u001b[1;31mNameError\u001b[0m                                 Traceback (most recent call last)",
      "Cell \u001b[1;32mIn[62], line 2\u001b[0m\n\u001b[0;32m      1\u001b[0m H \u001b[38;5;241m=\u001b[39m heis\u001b[38;5;241m.\u001b[39mconstructH(\u001b[38;5;241m12\u001b[39m)\n\u001b[1;32m----> 2\u001b[0m plt\u001b[38;5;241m.\u001b[39mimshow(\u001b[43me\u001b[49m\u001b[38;5;241m*\u001b[39m\u001b[38;5;241m*\u001b[39mH)\n\u001b[0;32m      3\u001b[0m plt\u001b[38;5;241m.\u001b[39mcolorbar()\n",
      "\u001b[1;31mNameError\u001b[0m: name 'e' is not defined"
     ]
    }
   ],
   "source": [
    "H = heis.constructH(12)\n",
    "plt.imshow(H)\n",
    "plt.colorbar()"
   ]
  },
  {
   "cell_type": "code",
   "execution_count": 208,
   "metadata": {},
   "outputs": [
    {
     "data": {
      "text/plain": [
       "<module 'utils.heisenberg_no_k' from 'c:\\\\Users\\\\Kotsios2\\\\Documents\\\\GitHub\\\\ED\\\\utils\\\\heisenberg_no_k.py'>"
      ]
     },
     "execution_count": 208,
     "metadata": {},
     "output_type": "execute_result"
    }
   ],
   "source": [
    "reload(heis)"
   ]
  },
  {
   "cell_type": "code",
   "execution_count": 220,
   "metadata": {},
   "outputs": [
    {
     "data": {
      "text/plain": [
       "-0.4473963952533599"
      ]
     },
     "execution_count": 220,
     "metadata": {},
     "output_type": "execute_result"
    }
   ],
   "source": [
    "-6.263549533547039/14"
   ]
  },
  {
   "cell_type": "code",
   "execution_count": null,
   "metadata": {},
   "outputs": [
    {
     "name": "stdout",
     "output_type": "stream",
     "text": [
      "True\n",
      "=============\n",
      "diagonalizing mz sector -8.0\n",
      "=============\n",
      "True\n",
      "=============\n",
      "diagonalizing mz sector -7.0\n",
      "=============\n",
      "True\n",
      "=============\n",
      "diagonalizing mz sector -6.0\n",
      "=============\n",
      "True\n",
      "=============\n",
      "diagonalizing mz sector -5.0\n",
      "=============\n",
      "True\n",
      "=============\n",
      "diagonalizing mz sector -4.0\n",
      "=============\n",
      "True\n",
      "=============\n",
      "diagonalizing mz sector -3.0\n",
      "=============\n",
      "True\n",
      "=============\n",
      "diagonalizing mz sector -2.0\n",
      "=============\n",
      "True\n",
      "=============\n",
      "diagonalizing mz sector -1.0\n",
      "=============\n",
      "True\n",
      "=============\n",
      "diagonalizing mz sector 0.0\n",
      "=============\n"
     ]
    }
   ],
   "source": [
    "%%time\n",
    "heis.generatePlots(L=16)"
   ]
  },
  {
   "cell_type": "code",
   "execution_count": 212,
   "metadata": {},
   "outputs": [],
   "source": [
    "def cyclic_left_shift(s, bit_width):\n",
    "    msb = (s >> (bit_width - 1)) & 1\n",
    "    s_shifted = ((s << 1) | msb) & ((1 << bit_width) - 1)\n",
    "    return s_shifted\n"
   ]
  },
  {
   "cell_type": "code",
   "execution_count": 219,
   "metadata": {},
   "outputs": [
    {
     "data": {
      "text/plain": [
       "153"
      ]
     },
     "execution_count": 219,
     "metadata": {},
     "output_type": "execute_result"
    }
   ],
   "source": [
    "cyclic_left_shift(204,8)"
   ]
  },
  {
   "cell_type": "code",
   "execution_count": 214,
   "metadata": {},
   "outputs": [
    {
     "name": "stdout",
     "output_type": "stream",
     "text": [
      "|↓|↓|↓|↓|↓|↑|↑|↓|↑|↓|\n"
     ]
    }
   ],
   "source": [
    "heis.basisVisualizer(10,26)"
   ]
  },
  {
   "cell_type": "code",
   "execution_count": 215,
   "metadata": {},
   "outputs": [
    {
     "name": "stdout",
     "output_type": "stream",
     "text": [
      "|↓|↓|↓|↓|↑|↑|↓|↑|↓|↓|\n"
     ]
    }
   ],
   "source": [
    "heis.basisVisualizer(10,52)"
   ]
  },
  {
   "cell_type": "markdown",
   "metadata": {},
   "source": [
    "with k"
   ]
  },
  {
   "cell_type": "code",
   "execution_count": 42,
   "metadata": {},
   "outputs": [
    {
     "data": {
      "text/plain": [
       "<module 'utils.heisenberg_w_k' from 'c:\\\\Users\\\\Kotsios2\\\\Documents\\\\GitHub\\\\ED\\\\utils\\\\heisenberg_w_k.py'>"
      ]
     },
     "execution_count": 42,
     "metadata": {},
     "output_type": "execute_result"
    }
   ],
   "source": [
    "reload(heisk)"
   ]
  },
  {
   "cell_type": "code",
   "execution_count": 62,
   "metadata": {},
   "outputs": [
    {
     "name": "stdout",
     "output_type": "stream",
     "text": [
      "1432860\n"
     ]
    }
   ],
   "source": [
    "a,b,c = heisk.makeBasis(28,0,0)\n",
    "print(a)"
   ]
  },
  {
   "cell_type": "code",
   "execution_count": 121,
   "metadata": {},
   "outputs": [],
   "source": [
    "L = 22\n",
    "size = np.zeros((int(L/2)+1,L),dtype=float)\n",
    "for i,mz in enumerate(np.arange(0,L/2+1,+1)):\n",
    "    for j,k in enumerate(np.arange(-L/2+1,L/2+1,+1)):\n",
    "        size[i,j] = heisk.makeBasis(L,k,mz)[0]"
   ]
  },
  {
   "cell_type": "code",
   "execution_count": null,
   "metadata": {},
   "outputs": [
    {
     "data": {
      "image/png": "[encoded data removed]",
      "text/plain": [
       "<Figure size 640x480 with 2 Axes>"
      ]
     },
     "metadata": {},
     "output_type": "display_data"
    }
   ],
   "source": [
    "im = plt.imshow(size.T,origin='lower', norm=LogNorm(), cmap='jet')\n",
    "plt.colorbar(im, label=\"# of states\")\n",
    "plt.ylabel('$k \\\\times L/2\\pi$',fontsize=12)\n",
    "plt.xlabel(r'$|m_z|$',fontsize=12)\n",
    "plt.yticks(np.arange(0,L,+2),np.arange(-L/2+1,L/2+1,+2));\n",
    "plt.title('states in $(k,m_z)$ symmetry sectors for $L=$'+str(L))\n",
    "#plt.savefig('basis_size.png',dpi=500)"
   ]
  },
  {
   "cell_type": "code",
   "execution_count": 51,
   "metadata": {},
   "outputs": [
    {
     "name": "stdout",
     "output_type": "stream",
     "text": [
      "|↑|↑|↑|↓|↓|↓|\n"
     ]
    }
   ],
   "source": [
    "heisk.basisVisualizer(6,56)"
   ]
  },
  {
   "cell_type": "code",
   "execution_count": 52,
   "metadata": {},
   "outputs": [
    {
     "data": {
      "text/plain": [
       "49"
      ]
     },
     "execution_count": 52,
     "metadata": {},
     "output_type": "execute_result"
    }
   ],
   "source": [
    "heisk.Tran(6,56)"
   ]
  },
  {
   "cell_type": "code",
   "execution_count": 53,
   "metadata": {},
   "outputs": [
    {
     "data": {
      "text/plain": [
       "2"
      ]
     },
     "execution_count": 53,
     "metadata": {},
     "output_type": "execute_result"
    }
   ],
   "source": [
    "heisk.findrepstate(6,49)"
   ]
  },
  {
   "cell_type": "code",
   "execution_count": null,
   "metadata": {},
   "outputs": [],
   "source": []
  }
 ],
 "metadata": {
  "kernelspec": {
   "display_name": "Python 3",
   "language": "python",
   "name": "python3"
  },
  "language_info": {
   "codemirror_mode": {
    "name": "ipython",
    "version": 3
   },
   "file_extension": ".py",
   "mimetype": "text/x-python",
   "name": "python",
   "nbconvert_exporter": "python",
   "pygments_lexer": "ipython3",
   "version": "3.11.9"
  }
 },
 "nbformat": 4,
 "nbformat_minor": 2
}
